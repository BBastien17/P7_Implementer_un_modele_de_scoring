{
 "cells": [
  {
   "cell_type": "markdown",
   "id": "4cfef9f6",
   "metadata": {},
   "source": [
    "### Importation des librairies"
   ]
  },
  {
   "cell_type": "code",
   "execution_count": 23,
   "id": "f434580e",
   "metadata": {},
   "outputs": [],
   "source": [
    "import pandas as pd \n",
    "import numpy as np\n",
    "import matplotlib.pyplot as plt\n",
    "import seaborn as sns\n",
    "import warnings\n",
    "#Traitement des messages d'erreur :\n",
    "warnings.filterwarnings('ignore')\n",
    "# Importation du package pour utiliser le SMOTE\n",
    "from imblearn.over_sampling import SMOTE\n",
    "#Librairie pour utiliser DummyClassifier\n",
    "from sklearn.dummy import DummyClassifier\n",
    "#Librairie afin de récupérer le score AUC\n",
    "from sklearn.metrics import roc_auc_score, roc_curve\n",
    "from sklearn.metrics import classification_report, confusion_matrix\n",
    "#Librairie pour la sauvegarde de variable\n",
    "import pickle"
   ]
  },
  {
   "cell_type": "markdown",
   "id": "5ce3dfff",
   "metadata": {},
   "source": [
    "### Fonctions utilisées dans le notebook"
   ]
  },
  {
   "cell_type": "code",
   "execution_count": 24,
   "id": "5be70712",
   "metadata": {},
   "outputs": [],
   "source": [
    "#Fonction utilisée pour calculer la taille du dataset avant et après avoir réalisé le SMOTE\n",
    "def resampling (features, target, resample):\n",
    "    \"\"\"Fonction utilisée pour calculer la taille du dataset avant et après avoir réalisé le SMOTE\"\"\"\n",
    "    print('Original dataset shape %s' % Counter(target))\n",
    "    X, y = resample.fit_resample(features, target)\n",
    "    print('Resampled dataset shape %s' % Counter(y))\n",
    "    return X, y"
   ]
  },
  {
   "cell_type": "markdown",
   "id": "8b92bae8",
   "metadata": {},
   "source": [
    "### Lecture des datasets"
   ]
  },
  {
   "cell_type": "code",
   "execution_count": 25,
   "id": "47418c70",
   "metadata": {},
   "outputs": [],
   "source": [
    "path = 'Projet_7/'\n",
    "X_train_transformed = pd.read_csv(path + \"X_train_transformed.csv\")\n",
    "X_test_transformed = pd.read_csv(path + \"X_test_transformed.csv\")\n",
    "y_train = pd.read_csv(path + \"y_train.csv\")\n",
    "y_test = pd.read_csv(path + \"y_test.csv\")"
   ]
  },
  {
   "cell_type": "code",
   "execution_count": 26,
   "id": "cd79765a",
   "metadata": {},
   "outputs": [
    {
     "data": {
      "text/html": [
       "<div>\n",
       "<style scoped>\n",
       "    .dataframe tbody tr th:only-of-type {\n",
       "        vertical-align: middle;\n",
       "    }\n",
       "\n",
       "    .dataframe tbody tr th {\n",
       "        vertical-align: top;\n",
       "    }\n",
       "\n",
       "    .dataframe thead th {\n",
       "        text-align: right;\n",
       "    }\n",
       "</style>\n",
       "<table border=\"1\" class=\"dataframe\">\n",
       "  <thead>\n",
       "    <tr style=\"text-align: right;\">\n",
       "      <th></th>\n",
       "      <th>0</th>\n",
       "      <th>1</th>\n",
       "      <th>2</th>\n",
       "      <th>3</th>\n",
       "      <th>4</th>\n",
       "      <th>5</th>\n",
       "      <th>6</th>\n",
       "      <th>7</th>\n",
       "      <th>8</th>\n",
       "      <th>9</th>\n",
       "      <th>...</th>\n",
       "      <th>35</th>\n",
       "      <th>36</th>\n",
       "      <th>37</th>\n",
       "      <th>38</th>\n",
       "      <th>39</th>\n",
       "      <th>40</th>\n",
       "      <th>41</th>\n",
       "      <th>42</th>\n",
       "      <th>43</th>\n",
       "      <th>44</th>\n",
       "    </tr>\n",
       "  </thead>\n",
       "  <tbody>\n",
       "    <tr>\n",
       "      <th>0</th>\n",
       "      <td>0.0</td>\n",
       "      <td>-0.180675</td>\n",
       "      <td>1.218730</td>\n",
       "      <td>0.908077</td>\n",
       "      <td>0.450028</td>\n",
       "      <td>-0.622276</td>\n",
       "      <td>0.0</td>\n",
       "      <td>0.0</td>\n",
       "      <td>0.0</td>\n",
       "      <td>0.0</td>\n",
       "      <td>...</td>\n",
       "      <td>0.0</td>\n",
       "      <td>6.0</td>\n",
       "      <td>1.0</td>\n",
       "      <td>1.0</td>\n",
       "      <td>0.0</td>\n",
       "      <td>1.0</td>\n",
       "      <td>1.0</td>\n",
       "      <td>0.0</td>\n",
       "      <td>7.0</td>\n",
       "      <td>2.0</td>\n",
       "    </tr>\n",
       "    <tr>\n",
       "      <th>1</th>\n",
       "      <td>1.0</td>\n",
       "      <td>0.869325</td>\n",
       "      <td>-0.150134</td>\n",
       "      <td>0.668864</td>\n",
       "      <td>-0.019824</td>\n",
       "      <td>-1.121469</td>\n",
       "      <td>0.0</td>\n",
       "      <td>0.0</td>\n",
       "      <td>0.0</td>\n",
       "      <td>0.0</td>\n",
       "      <td>...</td>\n",
       "      <td>0.0</td>\n",
       "      <td>6.0</td>\n",
       "      <td>1.0</td>\n",
       "      <td>1.0</td>\n",
       "      <td>1.0</td>\n",
       "      <td>2.0</td>\n",
       "      <td>1.0</td>\n",
       "      <td>0.0</td>\n",
       "      <td>7.0</td>\n",
       "      <td>2.0</td>\n",
       "    </tr>\n",
       "    <tr>\n",
       "      <th>2</th>\n",
       "      <td>0.0</td>\n",
       "      <td>0.119325</td>\n",
       "      <td>-0.318446</td>\n",
       "      <td>-0.034357</td>\n",
       "      <td>-0.536757</td>\n",
       "      <td>-0.216707</td>\n",
       "      <td>0.0</td>\n",
       "      <td>0.0</td>\n",
       "      <td>1.0</td>\n",
       "      <td>1.0</td>\n",
       "      <td>...</td>\n",
       "      <td>0.0</td>\n",
       "      <td>6.0</td>\n",
       "      <td>1.0</td>\n",
       "      <td>1.0</td>\n",
       "      <td>0.0</td>\n",
       "      <td>2.0</td>\n",
       "      <td>1.0</td>\n",
       "      <td>0.0</td>\n",
       "      <td>7.0</td>\n",
       "      <td>2.0</td>\n",
       "    </tr>\n",
       "    <tr>\n",
       "      <th>3</th>\n",
       "      <td>0.0</td>\n",
       "      <td>2.369325</td>\n",
       "      <td>1.469357</td>\n",
       "      <td>0.074824</td>\n",
       "      <td>0.508948</td>\n",
       "      <td>-0.925747</td>\n",
       "      <td>-8.0</td>\n",
       "      <td>0.0</td>\n",
       "      <td>1.0</td>\n",
       "      <td>1.0</td>\n",
       "      <td>...</td>\n",
       "      <td>0.0</td>\n",
       "      <td>6.0</td>\n",
       "      <td>1.0</td>\n",
       "      <td>1.0</td>\n",
       "      <td>0.0</td>\n",
       "      <td>1.0</td>\n",
       "      <td>1.0</td>\n",
       "      <td>0.0</td>\n",
       "      <td>7.0</td>\n",
       "      <td>2.0</td>\n",
       "    </tr>\n",
       "    <tr>\n",
       "      <th>4</th>\n",
       "      <td>0.0</td>\n",
       "      <td>-0.430675</td>\n",
       "      <td>-0.117945</td>\n",
       "      <td>-0.385539</td>\n",
       "      <td>-0.120870</td>\n",
       "      <td>-1.218725</td>\n",
       "      <td>0.0</td>\n",
       "      <td>-1.0</td>\n",
       "      <td>-1.0</td>\n",
       "      <td>-1.0</td>\n",
       "      <td>...</td>\n",
       "      <td>0.0</td>\n",
       "      <td>6.0</td>\n",
       "      <td>1.0</td>\n",
       "      <td>1.0</td>\n",
       "      <td>1.0</td>\n",
       "      <td>1.0</td>\n",
       "      <td>1.0</td>\n",
       "      <td>0.0</td>\n",
       "      <td>7.0</td>\n",
       "      <td>2.0</td>\n",
       "    </tr>\n",
       "  </tbody>\n",
       "</table>\n",
       "<p>5 rows × 45 columns</p>\n",
       "</div>"
      ],
      "text/plain": [
       "     0         1         2         3         4         5    6    7    8    9  \\\n",
       "0  0.0 -0.180675  1.218730  0.908077  0.450028 -0.622276  0.0  0.0  0.0  0.0   \n",
       "1  1.0  0.869325 -0.150134  0.668864 -0.019824 -1.121469  0.0  0.0  0.0  0.0   \n",
       "2  0.0  0.119325 -0.318446 -0.034357 -0.536757 -0.216707  0.0  0.0  1.0  1.0   \n",
       "3  0.0  2.369325  1.469357  0.074824  0.508948 -0.925747 -8.0  0.0  1.0  1.0   \n",
       "4  0.0 -0.430675 -0.117945 -0.385539 -0.120870 -1.218725  0.0 -1.0 -1.0 -1.0   \n",
       "\n",
       "   ...   35   36   37   38   39   40   41   42   43   44  \n",
       "0  ...  0.0  6.0  1.0  1.0  0.0  1.0  1.0  0.0  7.0  2.0  \n",
       "1  ...  0.0  6.0  1.0  1.0  1.0  2.0  1.0  0.0  7.0  2.0  \n",
       "2  ...  0.0  6.0  1.0  1.0  0.0  2.0  1.0  0.0  7.0  2.0  \n",
       "3  ...  0.0  6.0  1.0  1.0  0.0  1.0  1.0  0.0  7.0  2.0  \n",
       "4  ...  0.0  6.0  1.0  1.0  1.0  1.0  1.0  0.0  7.0  2.0  \n",
       "\n",
       "[5 rows x 45 columns]"
      ]
     },
     "metadata": {},
     "output_type": "display_data"
    },
    {
     "name": "stdout",
     "output_type": "stream",
     "text": [
      "(246008, 45)\n"
     ]
    },
    {
     "data": {
      "text/html": [
       "<div>\n",
       "<style scoped>\n",
       "    .dataframe tbody tr th:only-of-type {\n",
       "        vertical-align: middle;\n",
       "    }\n",
       "\n",
       "    .dataframe tbody tr th {\n",
       "        vertical-align: top;\n",
       "    }\n",
       "\n",
       "    .dataframe thead th {\n",
       "        text-align: right;\n",
       "    }\n",
       "</style>\n",
       "<table border=\"1\" class=\"dataframe\">\n",
       "  <thead>\n",
       "    <tr style=\"text-align: right;\">\n",
       "      <th></th>\n",
       "      <th>0</th>\n",
       "      <th>1</th>\n",
       "      <th>2</th>\n",
       "      <th>3</th>\n",
       "      <th>4</th>\n",
       "      <th>5</th>\n",
       "      <th>6</th>\n",
       "      <th>7</th>\n",
       "      <th>8</th>\n",
       "      <th>9</th>\n",
       "      <th>...</th>\n",
       "      <th>35</th>\n",
       "      <th>36</th>\n",
       "      <th>37</th>\n",
       "      <th>38</th>\n",
       "      <th>39</th>\n",
       "      <th>40</th>\n",
       "      <th>41</th>\n",
       "      <th>42</th>\n",
       "      <th>43</th>\n",
       "      <th>44</th>\n",
       "    </tr>\n",
       "  </thead>\n",
       "  <tbody>\n",
       "    <tr>\n",
       "      <th>0</th>\n",
       "      <td>0.0</td>\n",
       "      <td>-0.880675</td>\n",
       "      <td>-0.440459</td>\n",
       "      <td>-0.843008</td>\n",
       "      <td>0.762803</td>\n",
       "      <td>-0.192897</td>\n",
       "      <td>0.0</td>\n",
       "      <td>0.0</td>\n",
       "      <td>1.0</td>\n",
       "      <td>1.0</td>\n",
       "      <td>...</td>\n",
       "      <td>0.0</td>\n",
       "      <td>6.0</td>\n",
       "      <td>1.0</td>\n",
       "      <td>1.0</td>\n",
       "      <td>0.0</td>\n",
       "      <td>1.0</td>\n",
       "      <td>0.0</td>\n",
       "      <td>0.0</td>\n",
       "      <td>7.0</td>\n",
       "      <td>2.0</td>\n",
       "    </tr>\n",
       "    <tr>\n",
       "      <th>1</th>\n",
       "      <td>2.0</td>\n",
       "      <td>0.569325</td>\n",
       "      <td>0.717577</td>\n",
       "      <td>0.668864</td>\n",
       "      <td>0.292126</td>\n",
       "      <td>-1.245359</td>\n",
       "      <td>9.0</td>\n",
       "      <td>2.0</td>\n",
       "      <td>0.0</td>\n",
       "      <td>0.0</td>\n",
       "      <td>...</td>\n",
       "      <td>0.0</td>\n",
       "      <td>1.0</td>\n",
       "      <td>1.0</td>\n",
       "      <td>1.0</td>\n",
       "      <td>0.0</td>\n",
       "      <td>1.0</td>\n",
       "      <td>0.0</td>\n",
       "      <td>0.0</td>\n",
       "      <td>7.0</td>\n",
       "      <td>2.0</td>\n",
       "    </tr>\n",
       "    <tr>\n",
       "      <th>2</th>\n",
       "      <td>1.0</td>\n",
       "      <td>-0.380675</td>\n",
       "      <td>-0.577427</td>\n",
       "      <td>0.525969</td>\n",
       "      <td>0.795843</td>\n",
       "      <td>0.077885</td>\n",
       "      <td>-2.0</td>\n",
       "      <td>1.0</td>\n",
       "      <td>0.0</td>\n",
       "      <td>0.0</td>\n",
       "      <td>...</td>\n",
       "      <td>0.0</td>\n",
       "      <td>1.0</td>\n",
       "      <td>1.0</td>\n",
       "      <td>0.0</td>\n",
       "      <td>0.0</td>\n",
       "      <td>1.0</td>\n",
       "      <td>0.0</td>\n",
       "      <td>0.0</td>\n",
       "      <td>7.0</td>\n",
       "      <td>2.0</td>\n",
       "    </tr>\n",
       "    <tr>\n",
       "      <th>3</th>\n",
       "      <td>0.0</td>\n",
       "      <td>0.369325</td>\n",
       "      <td>1.480618</td>\n",
       "      <td>0.013453</td>\n",
       "      <td>0.911344</td>\n",
       "      <td>-0.410412</td>\n",
       "      <td>0.0</td>\n",
       "      <td>-1.0</td>\n",
       "      <td>0.0</td>\n",
       "      <td>0.0</td>\n",
       "      <td>...</td>\n",
       "      <td>0.0</td>\n",
       "      <td>6.0</td>\n",
       "      <td>1.0</td>\n",
       "      <td>1.0</td>\n",
       "      <td>2.0</td>\n",
       "      <td>1.0</td>\n",
       "      <td>1.0</td>\n",
       "      <td>0.0</td>\n",
       "      <td>7.0</td>\n",
       "      <td>0.0</td>\n",
       "    </tr>\n",
       "    <tr>\n",
       "      <th>4</th>\n",
       "      <td>0.0</td>\n",
       "      <td>0.869325</td>\n",
       "      <td>1.048304</td>\n",
       "      <td>-0.556145</td>\n",
       "      <td>0.780699</td>\n",
       "      <td>0.350282</td>\n",
       "      <td>0.0</td>\n",
       "      <td>-1.0</td>\n",
       "      <td>0.0</td>\n",
       "      <td>0.0</td>\n",
       "      <td>...</td>\n",
       "      <td>1.0</td>\n",
       "      <td>6.0</td>\n",
       "      <td>1.0</td>\n",
       "      <td>0.0</td>\n",
       "      <td>1.0</td>\n",
       "      <td>2.0</td>\n",
       "      <td>1.0</td>\n",
       "      <td>0.0</td>\n",
       "      <td>7.0</td>\n",
       "      <td>2.0</td>\n",
       "    </tr>\n",
       "  </tbody>\n",
       "</table>\n",
       "<p>5 rows × 45 columns</p>\n",
       "</div>"
      ],
      "text/plain": [
       "     0         1         2         3         4         5    6    7    8    9  \\\n",
       "0  0.0 -0.880675 -0.440459 -0.843008  0.762803 -0.192897  0.0  0.0  1.0  1.0   \n",
       "1  2.0  0.569325  0.717577  0.668864  0.292126 -1.245359  9.0  2.0  0.0  0.0   \n",
       "2  1.0 -0.380675 -0.577427  0.525969  0.795843  0.077885 -2.0  1.0  0.0  0.0   \n",
       "3  0.0  0.369325  1.480618  0.013453  0.911344 -0.410412  0.0 -1.0  0.0  0.0   \n",
       "4  0.0  0.869325  1.048304 -0.556145  0.780699  0.350282  0.0 -1.0  0.0  0.0   \n",
       "\n",
       "   ...   35   36   37   38   39   40   41   42   43   44  \n",
       "0  ...  0.0  6.0  1.0  1.0  0.0  1.0  0.0  0.0  7.0  2.0  \n",
       "1  ...  0.0  1.0  1.0  1.0  0.0  1.0  0.0  0.0  7.0  2.0  \n",
       "2  ...  0.0  1.0  1.0  0.0  0.0  1.0  0.0  0.0  7.0  2.0  \n",
       "3  ...  0.0  6.0  1.0  1.0  2.0  1.0  1.0  0.0  7.0  0.0  \n",
       "4  ...  1.0  6.0  1.0  0.0  1.0  2.0  1.0  0.0  7.0  2.0  \n",
       "\n",
       "[5 rows x 45 columns]"
      ]
     },
     "metadata": {},
     "output_type": "display_data"
    },
    {
     "name": "stdout",
     "output_type": "stream",
     "text": [
      "(61503, 45)\n"
     ]
    },
    {
     "data": {
      "text/html": [
       "<div>\n",
       "<style scoped>\n",
       "    .dataframe tbody tr th:only-of-type {\n",
       "        vertical-align: middle;\n",
       "    }\n",
       "\n",
       "    .dataframe tbody tr th {\n",
       "        vertical-align: top;\n",
       "    }\n",
       "\n",
       "    .dataframe thead th {\n",
       "        text-align: right;\n",
       "    }\n",
       "</style>\n",
       "<table border=\"1\" class=\"dataframe\">\n",
       "  <thead>\n",
       "    <tr style=\"text-align: right;\">\n",
       "      <th></th>\n",
       "      <th>TARGET</th>\n",
       "    </tr>\n",
       "  </thead>\n",
       "  <tbody>\n",
       "    <tr>\n",
       "      <th>0</th>\n",
       "      <td>0</td>\n",
       "    </tr>\n",
       "    <tr>\n",
       "      <th>1</th>\n",
       "      <td>0</td>\n",
       "    </tr>\n",
       "    <tr>\n",
       "      <th>2</th>\n",
       "      <td>0</td>\n",
       "    </tr>\n",
       "    <tr>\n",
       "      <th>3</th>\n",
       "      <td>0</td>\n",
       "    </tr>\n",
       "    <tr>\n",
       "      <th>4</th>\n",
       "      <td>0</td>\n",
       "    </tr>\n",
       "  </tbody>\n",
       "</table>\n",
       "</div>"
      ],
      "text/plain": [
       "   TARGET\n",
       "0       0\n",
       "1       0\n",
       "2       0\n",
       "3       0\n",
       "4       0"
      ]
     },
     "metadata": {},
     "output_type": "display_data"
    },
    {
     "name": "stdout",
     "output_type": "stream",
     "text": [
      "(246008, 1)\n"
     ]
    },
    {
     "data": {
      "text/html": [
       "<div>\n",
       "<style scoped>\n",
       "    .dataframe tbody tr th:only-of-type {\n",
       "        vertical-align: middle;\n",
       "    }\n",
       "\n",
       "    .dataframe tbody tr th {\n",
       "        vertical-align: top;\n",
       "    }\n",
       "\n",
       "    .dataframe thead th {\n",
       "        text-align: right;\n",
       "    }\n",
       "</style>\n",
       "<table border=\"1\" class=\"dataframe\">\n",
       "  <thead>\n",
       "    <tr style=\"text-align: right;\">\n",
       "      <th></th>\n",
       "      <th>TARGET</th>\n",
       "    </tr>\n",
       "  </thead>\n",
       "  <tbody>\n",
       "    <tr>\n",
       "      <th>0</th>\n",
       "      <td>0</td>\n",
       "    </tr>\n",
       "    <tr>\n",
       "      <th>1</th>\n",
       "      <td>0</td>\n",
       "    </tr>\n",
       "    <tr>\n",
       "      <th>2</th>\n",
       "      <td>0</td>\n",
       "    </tr>\n",
       "    <tr>\n",
       "      <th>3</th>\n",
       "      <td>0</td>\n",
       "    </tr>\n",
       "    <tr>\n",
       "      <th>4</th>\n",
       "      <td>0</td>\n",
       "    </tr>\n",
       "  </tbody>\n",
       "</table>\n",
       "</div>"
      ],
      "text/plain": [
       "   TARGET\n",
       "0       0\n",
       "1       0\n",
       "2       0\n",
       "3       0\n",
       "4       0"
      ]
     },
     "metadata": {},
     "output_type": "display_data"
    },
    {
     "name": "stdout",
     "output_type": "stream",
     "text": [
      "(61503, 1)\n"
     ]
    }
   ],
   "source": [
    "display(X_train_transformed.head())\n",
    "print(X_train_transformed.shape)\n",
    "display(X_test_transformed.head())\n",
    "print(X_test_transformed.shape)\n",
    "display(y_train.head())\n",
    "print(y_train.shape)\n",
    "display(y_test.head())\n",
    "print(y_test.shape)"
   ]
  },
  {
   "cell_type": "markdown",
   "id": "05d93cdc",
   "metadata": {},
   "source": [
    "### DummyClassifier"
   ]
  },
  {
   "cell_type": "markdown",
   "id": "d3257034",
   "metadata": {},
   "source": [
    "On va commencer par créer un modèle de base afin de définir si un suréchantillonage est nécessaire"
   ]
  },
  {
   "cell_type": "code",
   "execution_count": 27,
   "id": "fa5c5971",
   "metadata": {},
   "outputs": [
    {
     "data": {
      "text/plain": [
       "DummyClassifier()"
      ]
     },
     "execution_count": 27,
     "metadata": {},
     "output_type": "execute_result"
    }
   ],
   "source": [
    "#Le paramètre prior permet de renvoyer l'étiquette de classe la plus fréquente\n",
    "Dummy_model = DummyClassifier(strategy='prior')\n",
    "#Entrainement du modèle\n",
    "Dummy_model.fit(X=X_train_transformed,y=y_train)"
   ]
  },
  {
   "cell_type": "code",
   "execution_count": 28,
   "id": "cbaff3c0",
   "metadata": {},
   "outputs": [
    {
     "name": "stdout",
     "output_type": "stream",
     "text": [
      "Le score AUC est de :  0.5\n",
      "              precision    recall  f1-score   support\n",
      "\n",
      "           0       0.92      1.00      0.96     56445\n",
      "           1       0.00      0.00      0.00      5058\n",
      "\n",
      "    accuracy                           0.92     61503\n",
      "   macro avg       0.46      0.50      0.48     61503\n",
      "weighted avg       0.84      0.92      0.88     61503\n",
      "\n"
     ]
    }
   ],
   "source": [
    "model_roc_auc_score = roc_auc_score(y_test, Dummy_model.predict_proba(X_test_transformed)[:,1])\n",
    "print(\"Le score AUC est de : \", model_roc_auc_score)\n",
    "print(classification_report(y_test, Dummy_model.predict(X_test_transformed)))"
   ]
  },
  {
   "cell_type": "markdown",
   "id": "c4b84a2d",
   "metadata": {},
   "source": [
    "Affichage de la matrice de confusion"
   ]
  },
  {
   "cell_type": "code",
   "execution_count": 29,
   "id": "9ba86fa8",
   "metadata": {},
   "outputs": [
    {
     "data": {
      "text/plain": [
       "<AxesSubplot:>"
      ]
     },
     "execution_count": 29,
     "metadata": {},
     "output_type": "execute_result"
    },
    {
     "data": {
      "image/png": "[encoded data removed]",
      "text/plain": [
       "<Figure size 720x720 with 2 Axes>"
      ]
     },
     "metadata": {
      "needs_background": "light"
     },
     "output_type": "display_data"
    }
   ],
   "source": [
    "conf_mat = confusion_matrix(y_test, Dummy_model.predict(X_test_transformed))\n",
    "fig = plt.figure(figsize=(10,10))\n",
    "group_names = ['Vrais Négatifs', 'Faux Positifs', 'Faux Négatifs', 'Vrais Positifs']\n",
    "group_counts = [\"{0:0.0f}\".format(value) for value in conf_mat.flatten()]\n",
    "group_percentages = [\"{0:.2%}\".format(value) for value in conf_mat.flatten()/np.sum(conf_mat)]\n",
    "labels = [f\"{v1}\\n{v2}\\n{v3}\" for v1, v2, v3 in zip(group_names,group_counts,group_percentages)]\n",
    "labels = np.asarray(labels).reshape(2,2)\n",
    "sns.heatmap(conf_mat, annot=labels, fmt=\"\", cmap='Blues')"
   ]
  },
  {
   "cell_type": "markdown",
   "id": "97eb9e70",
   "metadata": {},
   "source": [
    "Affichage de la courbe de l'AUC"
   ]
  },
  {
   "cell_type": "code",
   "execution_count": 30,
   "id": "7248ec43",
   "metadata": {},
   "outputs": [
    {
     "data": {
      "image/png": "[encoded data removed]",
      "text/plain": [
       "<Figure size 720x720 with 1 Axes>"
      ]
     },
     "metadata": {
      "needs_background": "light"
     },
     "output_type": "display_data"
    }
   ],
   "source": [
    "fig = plt.figure(figsize=(10,10))\n",
    "false_positive, true_positive, _ = roc_curve(y_test, Dummy_model.predict_proba(X_test_transformed)[:,1])\n",
    "plt.plot(false_positive, true_positive, label = \"AUC = %0.2f\" %model_roc_auc_score)\n",
    "plt.xlabel(\"Taux de Faux Positif\")\n",
    "plt.ylabel(\"Taux de Vrai Positif\")\n",
    "plt.title(\"Courbe de l'AUC\")\n",
    "plt.legend(loc = 'upper left')\n",
    "plt.show()"
   ]
  },
  {
   "cell_type": "markdown",
   "id": "9002e972",
   "metadata": {},
   "source": [
    "On peut voir que l'AUC de 0.5 nous indique que le modèl en l'état n'est pas performant. De plus l'accuracy à 0.92 vu précédemment nous montre que nous sommes en présence d'overfitting.\n",
    "Nous allons donc réaliser un suréchantillonnage (oversampling) afin de corriger cette anomalie. "
   ]
  },
  {
   "cell_type": "markdown",
   "id": "59b6acbd",
   "metadata": {},
   "source": [
    "### Utilisation de la fonction SMOTE"
   ]
  },
  {
   "cell_type": "markdown",
   "id": "ed50c1aa",
   "metadata": {},
   "source": [
    "On commence par regarder avant l'échantillonage le nombre d'observation avec la variable Target à 1 (classe à 1) et le nombre avec la valeur Target à 0 (classe à 0)."
   ]
  },
  {
   "cell_type": "code",
   "execution_count": 31,
   "id": "d9eed5fa",
   "metadata": {},
   "outputs": [
    {
     "name": "stdout",
     "output_type": "stream",
     "text": [
      "Nous avons  [19767]  observations pour la classe à 1.\n",
      "Nous avons  [226241]  observations pour la classe à 0.\n"
     ]
    }
   ],
   "source": [
    "sum_target_1 = (np.sum(y_train==1)).values\n",
    "sum_target_0 = (np.sum(y_train==0)).values\n",
    "\n",
    "print(\"Nous avons \", sum_target_1, \" observations pour la classe à 1.\")\n",
    "print(\"Nous avons \", sum_target_0, \" observations pour la classe à 0.\")"
   ]
  },
  {
   "cell_type": "markdown",
   "id": "64c05679",
   "metadata": {},
   "source": [
    "On exécute ensuite le SMOTE"
   ]
  },
  {
   "cell_type": "code",
   "execution_count": 32,
   "id": "c8b201a8",
   "metadata": {},
   "outputs": [],
   "source": [
    "sm = SMOTE(random_state=42)\n",
    "X_train_res, y_train_res = sm.fit_resample(X_train_transformed, y_train)"
   ]
  },
  {
   "cell_type": "markdown",
   "id": "5c13c92b",
   "metadata": {},
   "source": [
    "On affiche ensuite la nouvelle répartition des classes"
   ]
  },
  {
   "cell_type": "code",
   "execution_count": 33,
   "id": "1f1de830",
   "metadata": {},
   "outputs": [
    {
     "name": "stdout",
     "output_type": "stream",
     "text": [
      "Nous avons  [226241]  observations pour la classe à 1.\n",
      "Nous avons  [226241]  observations pour la classe à 0.\n"
     ]
    }
   ],
   "source": [
    "sum_target_res_1 = (np.sum(y_train_res==1)).values\n",
    "sum_target_res_0 = (np.sum(y_train_res==0)).values\n",
    "\n",
    "print(\"Nous avons \", sum_target_res_1, \" observations pour la classe à 1.\")\n",
    "print(\"Nous avons \", sum_target_res_0, \" observations pour la classe à 0.\")"
   ]
  },
  {
   "cell_type": "markdown",
   "id": "d3a340a2",
   "metadata": {},
   "source": [
    "On a donc bien équilibrer les classes de notre modèle.\n",
    "On va recalculer les différents métriques afin de voir l'impact que cela a."
   ]
  },
  {
   "cell_type": "code",
   "execution_count": 34,
   "id": "443e5c03",
   "metadata": {},
   "outputs": [
    {
     "data": {
      "text/plain": [
       "DummyClassifier(strategy='uniform')"
      ]
     },
     "execution_count": 34,
     "metadata": {},
     "output_type": "execute_result"
    }
   ],
   "source": [
    "#Le paramètre prior permet de renvoyer l'étiquette de classe la plus fréquente\n",
    "Dummy_model = DummyClassifier(strategy='uniform')\n",
    "#Entrainement du modèle\n",
    "Dummy_model.fit(X=X_train_res,y=y_train_res)"
   ]
  },
  {
   "cell_type": "code",
   "execution_count": 35,
   "id": "0ee6e453",
   "metadata": {},
   "outputs": [
    {
     "name": "stdout",
     "output_type": "stream",
     "text": [
      "Le score AUC est de :  0.5\n",
      "              precision    recall  f1-score   support\n",
      "\n",
      "           0       0.92      0.50      0.65     56445\n",
      "           1       0.08      0.50      0.14      5058\n",
      "\n",
      "    accuracy                           0.50     61503\n",
      "   macro avg       0.50      0.50      0.39     61503\n",
      "weighted avg       0.85      0.50      0.60     61503\n",
      "\n"
     ]
    }
   ],
   "source": [
    "model_roc_auc_score = roc_auc_score(y_test, Dummy_model.predict_proba(X_test_transformed)[:,1])\n",
    "print(\"Le score AUC est de : \", model_roc_auc_score)\n",
    "dummy_class_report = classification_report(y_test, Dummy_model.predict(X_test_transformed))\n",
    "print(classification_report(y_test, Dummy_model.predict(X_test_transformed)))"
   ]
  },
  {
   "cell_type": "code",
   "execution_count": 36,
   "id": "500eaa10",
   "metadata": {},
   "outputs": [
    {
     "data": {
      "text/plain": [
       "<AxesSubplot:>"
      ]
     },
     "execution_count": 36,
     "metadata": {},
     "output_type": "execute_result"
    },
    {
     "data": {
      "image/png": "[encoded data removed]",
      "text/plain": [
       "<Figure size 720x720 with 2 Axes>"
      ]
     },
     "metadata": {
      "needs_background": "light"
     },
     "output_type": "display_data"
    }
   ],
   "source": [
    "conf_mat = confusion_matrix(y_test, Dummy_model.predict(X_test_transformed))\n",
    "fig = plt.figure(figsize=(10,10))\n",
    "group_names = ['Vrais Négatifs', 'Faux Positifs', 'Faux Négatifs', 'Vrais Positifs']\n",
    "group_counts = [\"{0:0.0f}\".format(value) for value in conf_mat.flatten()]\n",
    "group_percentages = [\"{0:.2%}\".format(value) for value in conf_mat.flatten()/np.sum(conf_mat)]\n",
    "labels = [f\"{v1}\\n{v2}\\n{v3}\" for v1, v2, v3 in zip(group_names,group_counts,group_percentages)]\n",
    "labels = np.asarray(labels).reshape(2,2)\n",
    "sns.heatmap(conf_mat, annot=labels, fmt=\"\", cmap='Blues')"
   ]
  },
  {
   "cell_type": "code",
   "execution_count": 37,
   "id": "8491e115",
   "metadata": {
    "scrolled": false
   },
   "outputs": [
    {
     "data": {
      "image/png": "[encoded data removed]",
      "text/plain": [
       "<Figure size 720x720 with 1 Axes>"
      ]
     },
     "metadata": {
      "needs_background": "light"
     },
     "output_type": "display_data"
    }
   ],
   "source": [
    "fig = plt.figure(figsize=(10,10))\n",
    "false_positive, true_positive, _ = roc_curve(y_test, Dummy_model.predict_proba(X_test_transformed)[:,1])\n",
    "plt.plot(false_positive, true_positive, label = \"AUC = %0.2f\" %model_roc_auc_score)\n",
    "plt.xlabel(\"Taux de Faux Positif\")\n",
    "plt.ylabel(\"Taux de Vrai Positif\")\n",
    "plt.title(\"Courbe de l'AUC\")\n",
    "plt.legend(loc = 'upper left')\n",
    "plt.show()"
   ]
  },
  {
   "cell_type": "code",
   "execution_count": 38,
   "id": "efdc86f8",
   "metadata": {},
   "outputs": [],
   "source": [
    "#Création de dataframe avec X_train_res et y_train_res que l'on sauvegarde au format .CSV\n",
    "pd.DataFrame(X_train_res).to_csv(path + 'X_train_res.csv',index=False)\n",
    "pd.DataFrame(y_train_res).to_csv(path + 'y_train_res.csv',index=False)\n",
    "#Export des résultats du modèle DummyClassifier\n",
    "fichierSauvegarde = open(\"donnees\",\"wb\")\n",
    "pickle.dump(model_roc_auc_score, fichierSauvegarde)\n",
    "pickle.dump(dummy_class_report, fichierSauvegarde)\n",
    "fichierSauvegarde.close()"
   ]
  },
  {
   "cell_type": "markdown",
   "id": "3f5c543d",
   "metadata": {},
   "source": [
    "### Conclusion"
   ]
  },
  {
   "cell_type": "markdown",
   "id": "f66dd58c",
   "metadata": {},
   "source": [
    "Maintenant que nous avons équilibrer les classes nous allons pouvoir entrainer différent modèles afin de déterminer lequel il est plus adéquat à utliser."
   ]
  }
 ],
 "metadata": {
  "kernelspec": {
   "display_name": "Python 3 (ipykernel)",
   "language": "python",
   "name": "python3"
  },
  "language_info": {
   "codemirror_mode": {
    "name": "ipython",
    "version": 3
   },
   "file_extension": ".py",
   "mimetype": "text/x-python",
   "name": "python",
   "nbconvert_exporter": "python",
   "pygments_lexer": "ipython3",
   "version": "3.9.12"
  }
 },
 "nbformat": 4,
 "nbformat_minor": 5
}
